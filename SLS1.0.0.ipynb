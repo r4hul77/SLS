{
 "cells": [
  {
   "cell_type": "markdown",
   "metadata": {},
   "source": [
    "# Seed Spacing Intial Apporach\n",
    "\n",
    "The goal of this project is to figure out the distance between 2 seeds from a video feed provided with gps data"
   ]
  },
  {
   "cell_type": "code",
   "execution_count": 1,
   "metadata": {},
   "outputs": [],
   "source": [
    "from utils.filehandling import LoadFilesWithExtensions\n",
    "import pandas as pd\n",
    "import os\n",
    "import torch\n",
    "import torchvision\n",
    "import numpy as np\n",
    "from seed_distance_estimator import *\n",
    "\n",
    "\n",
    "device = torch.device('cuda' if torch.cuda.is_available() else 'cpu')\n"
   ]
  },
  {
   "cell_type": "code",
   "execution_count": 11,
   "metadata": {
    "scrolled": true
   },
   "outputs": [
    {
     "data": {
      "text/html": [
       "<div>\n",
       "<style scoped>\n",
       "    .dataframe tbody tr th:only-of-type {\n",
       "        vertical-align: middle;\n",
       "    }\n",
       "\n",
       "    .dataframe tbody tr th {\n",
       "        vertical-align: top;\n",
       "    }\n",
       "\n",
       "    .dataframe thead th {\n",
       "        text-align: right;\n",
       "    }\n",
       "</style>\n",
       "<table border=\"1\" class=\"dataframe\">\n",
       "  <thead>\n",
       "    <tr style=\"text-align: right;\">\n",
       "      <th></th>\n",
       "      <th>Time - UTC</th>\n",
       "      <th>Amplitude - UTC</th>\n",
       "      <th>Time - Long</th>\n",
       "      <th>Amplitude - Long</th>\n",
       "      <th>Time - Lat</th>\n",
       "      <th>Amplitude - Lat</th>\n",
       "      <th>Time - Ht1</th>\n",
       "      <th>Amplitude - Ht1</th>\n",
       "      <th>Time - Ht2</th>\n",
       "      <th>Amplitude - Ht2</th>\n",
       "      <th>Time - Ht3</th>\n",
       "      <th>Amplitude - Ht3</th>\n",
       "      <th>Time - Ht4</th>\n",
       "      <th>Amplitude - Ht4</th>\n",
       "      <th>Time - Vel</th>\n",
       "      <th>Amplitude - Vel</th>\n",
       "      <th>Time - Heading</th>\n",
       "      <th>Amplitude - Heading</th>\n",
       "    </tr>\n",
       "  </thead>\n",
       "  <tbody>\n",
       "    <tr>\n",
       "      <th>0</th>\n",
       "      <td>0</td>\n",
       "      <td>210619.1</td>\n",
       "      <td>0</td>\n",
       "      <td>96.513964</td>\n",
       "      <td>0</td>\n",
       "      <td>39.424320</td>\n",
       "      <td>0</td>\n",
       "      <td>183.389225</td>\n",
       "      <td>0</td>\n",
       "      <td>21.176232</td>\n",
       "      <td>0</td>\n",
       "      <td>54.160157</td>\n",
       "      <td>0</td>\n",
       "      <td>37.507268</td>\n",
       "      <td>0</td>\n",
       "      <td>6.4100</td>\n",
       "      <td>0</td>\n",
       "      <td>182.343</td>\n",
       "    </tr>\n",
       "    <tr>\n",
       "      <th>1</th>\n",
       "      <td>1</td>\n",
       "      <td>210619.1</td>\n",
       "      <td>1</td>\n",
       "      <td>96.513964</td>\n",
       "      <td>1</td>\n",
       "      <td>39.424320</td>\n",
       "      <td>1</td>\n",
       "      <td>57.101139</td>\n",
       "      <td>1</td>\n",
       "      <td>8.256403</td>\n",
       "      <td>1</td>\n",
       "      <td>0.555488</td>\n",
       "      <td>1</td>\n",
       "      <td>28.489529</td>\n",
       "      <td>1</td>\n",
       "      <td>6.4100</td>\n",
       "      <td>1</td>\n",
       "      <td>182.343</td>\n",
       "    </tr>\n",
       "    <tr>\n",
       "      <th>2</th>\n",
       "      <td>2</td>\n",
       "      <td>210619.2</td>\n",
       "      <td>2</td>\n",
       "      <td>96.513964</td>\n",
       "      <td>2</td>\n",
       "      <td>39.424318</td>\n",
       "      <td>2</td>\n",
       "      <td>54.916345</td>\n",
       "      <td>2</td>\n",
       "      <td>4.417093</td>\n",
       "      <td>2</td>\n",
       "      <td>9.418353</td>\n",
       "      <td>2</td>\n",
       "      <td>30.213755</td>\n",
       "      <td>2</td>\n",
       "      <td>6.5535</td>\n",
       "      <td>2</td>\n",
       "      <td>181.403</td>\n",
       "    </tr>\n",
       "    <tr>\n",
       "      <th>3</th>\n",
       "      <td>3</td>\n",
       "      <td>210619.2</td>\n",
       "      <td>3</td>\n",
       "      <td>96.513964</td>\n",
       "      <td>3</td>\n",
       "      <td>39.424318</td>\n",
       "      <td>3</td>\n",
       "      <td>32.261195</td>\n",
       "      <td>3</td>\n",
       "      <td>44.623085</td>\n",
       "      <td>3</td>\n",
       "      <td>8.894750</td>\n",
       "      <td>3</td>\n",
       "      <td>102.231336</td>\n",
       "      <td>3</td>\n",
       "      <td>6.5535</td>\n",
       "      <td>3</td>\n",
       "      <td>181.403</td>\n",
       "    </tr>\n",
       "    <tr>\n",
       "      <th>4</th>\n",
       "      <td>4</td>\n",
       "      <td>210619.2</td>\n",
       "      <td>4</td>\n",
       "      <td>96.513964</td>\n",
       "      <td>4</td>\n",
       "      <td>39.424318</td>\n",
       "      <td>4</td>\n",
       "      <td>41.248996</td>\n",
       "      <td>4</td>\n",
       "      <td>40.842488</td>\n",
       "      <td>4</td>\n",
       "      <td>6.944034</td>\n",
       "      <td>4</td>\n",
       "      <td>177.594689</td>\n",
       "      <td>4</td>\n",
       "      <td>6.5535</td>\n",
       "      <td>4</td>\n",
       "      <td>181.403</td>\n",
       "    </tr>\n",
       "  </tbody>\n",
       "</table>\n",
       "</div>"
      ],
      "text/plain": [
       "   Time - UTC  Amplitude - UTC  Time - Long  Amplitude - Long  Time - Lat  \\\n",
       "0           0         210619.1            0         96.513964           0   \n",
       "1           1         210619.1            1         96.513964           1   \n",
       "2           2         210619.2            2         96.513964           2   \n",
       "3           3         210619.2            3         96.513964           3   \n",
       "4           4         210619.2            4         96.513964           4   \n",
       "\n",
       "   Amplitude - Lat  Time - Ht1  Amplitude - Ht1  Time - Ht2  Amplitude - Ht2  \\\n",
       "0        39.424320           0       183.389225           0        21.176232   \n",
       "1        39.424320           1        57.101139           1         8.256403   \n",
       "2        39.424318           2        54.916345           2         4.417093   \n",
       "3        39.424318           3        32.261195           3        44.623085   \n",
       "4        39.424318           4        41.248996           4        40.842488   \n",
       "\n",
       "   Time - Ht3  Amplitude - Ht3  Time - Ht4  Amplitude - Ht4  Time - Vel  \\\n",
       "0           0        54.160157           0        37.507268           0   \n",
       "1           1         0.555488           1        28.489529           1   \n",
       "2           2         9.418353           2        30.213755           2   \n",
       "3           3         8.894750           3       102.231336           3   \n",
       "4           4         6.944034           4       177.594689           4   \n",
       "\n",
       "   Amplitude - Vel  Time - Heading  Amplitude - Heading  \n",
       "0           6.4100               0              182.343  \n",
       "1           6.4100               1              182.343  \n",
       "2           6.5535               2              181.403  \n",
       "3           6.5535               3              181.403  \n",
       "4           6.5535               4              181.403  "
      ]
     },
     "execution_count": 11,
     "metadata": {},
     "output_type": "execute_result"
    }
   ],
   "source": [
    "# Loading Trained CNN Model, CSV File Containing GPS information and the path of video file\n",
    "\n",
    "model_path = \"CNNModels/retina_fp_50.pth\"\n",
    "retina_net = RetinaNetSeedPredictor(\"Retina Net 18\", model_path, device)\n",
    "video_file = \"exp2/video_data/6-28-2021_4-04-37 PM.avi\"\n",
    "csv_file = \"exp2/gps_frame/1inch_4mph.csv\"\n",
    "csv_data_frame = pd.read_csv(csv_file)\n",
    "csv_data_frame.head()"
   ]
  },
  {
   "cell_type": "code",
   "execution_count": 12,
   "metadata": {},
   "outputs": [
    {
     "name": "stdout",
     "output_type": "stream",
     "text": [
      "0\n",
      "FN 1672  CAM 0 POP : 196 CAM 1 POP : 231 CAM 2 POP : 205 CAM 3 POP : 281\r"
     ]
    }
   ],
   "source": [
    "spc = SeedSpacingCalculator(video_file_path=video_file, csv_data_frame=csv_data_frame, Model=retina_net, x_factor=0.13335)\n",
    "spc.seek(0.2)\n",
    "#spc.seek_frame(830)\n",
    "distances = spc.getSpacing(max_count=None, threshold=0.25, reset=False)"
   ]
  },
  {
   "cell_type": "code",
   "execution_count": 4,
   "metadata": {},
   "outputs": [
    {
     "name": "stdout",
     "output_type": "stream",
     "text": [
      "[-1.  0.  1.  2.  3.  4.  5.]\n"
     ]
    },
    {
     "data": {
      "text/plain": [
       "array([2., 3., 4., 5.])"
      ]
     },
     "execution_count": 4,
     "metadata": {},
     "output_type": "execute_result"
    }
   ],
   "source": [
    "test1 = distance_struct()\n",
    "test1.cum_distance = -1\n",
    "m1 = np.linspace(-1, 5, 7)\n",
    "print(m1)\n",
    "m1[test1.filter_out_seen_seeds(m1, 0.5, 2)]"
   ]
  },
  {
   "cell_type": "code",
   "execution_count": 13,
   "metadata": {},
   "outputs": [
    {
     "data": {
      "image/png": "[encoded data removed]",
      "text/plain": [
       "<Figure size 432x288 with 1 Axes>"
      ]
     },
     "metadata": {
      "needs_background": "light"
     },
     "output_type": "display_data"
    },
    {
     "data": {
      "image/png": "[encoded data removed]",
      "text/plain": [
       "<Figure size 432x288 with 1 Axes>"
      ]
     },
     "metadata": {
      "needs_background": "light"
     },
     "output_type": "display_data"
    },
    {
     "data": {
      "image/png": "[encoded data removed]",
      "text/plain": [
       "<Figure size 432x288 with 1 Axes>"
      ]
     },
     "metadata": {
      "needs_background": "light"
     },
     "output_type": "display_data"
    },
    {
     "data": {
      "image/png": "[encoded data removed]",
      "text/plain": [
       "<Figure size 432x288 with 1 Axes>"
      ]
     },
     "metadata": {
      "needs_background": "light"
     },
     "output_type": "display_data"
    }
   ],
   "source": [
    "# Histograms\n",
    "\n",
    "import matplotlib.pyplot as plot \n",
    "%matplotlib inline\n",
    "\n",
    "n_bins = 300\n",
    "for i in range(4):\n",
    "    plot.hist([seed_attribute.distance for seed_attribute in distances[i].seed_attributes], bins=n_bins)\n",
    "    plot.title('Camera {}'.format(i+3))\n",
    "    plot.xlabel(\"Distance(M)\")\n",
    "    plot.ylabel(\"Number (N)\")\n",
    "    plot.savefig(\"Hist_{}.png\".format(i))\n",
    "    plot.show()"
   ]
  },
  {
   "cell_type": "code",
   "execution_count": 69,
   "metadata": {},
   "outputs": [],
   "source": [
    "import utm\n",
    "from matplotlib import pyplot as plt\n",
    "from matplotlib.ticker import FormatStrFormatter\n",
    "\n",
    "lat_col, long_col = 'Amplitude - Lat', 'Amplitude - Long' \n",
    "lat_long = list(zip(csv_data_frame[lat_col][spc.seeked::4], -csv_data_frame[long_col][spc.seeked::4]))\n",
    "utm_cords = [utm.from_latlon(lat, long) for lat, long in lat_long]"
   ]
  },
  {
   "cell_type": "code",
   "execution_count": 76,
   "metadata": {},
   "outputs": [
    {
     "data": {
      "image/png": "[encoded data removed]",
      "text/plain": [
       "<Figure size 432x288 with 1 Axes>"
      ]
     },
     "metadata": {
      "needs_background": "light"
     },
     "output_type": "display_data"
    }
   ],
   "source": [
    "e, n, zones, letter = zip(*utm_cords)\n",
    "le, de, ln, dn = min(e), max(e) - min(e), min(n), max(n) - min(n)\n",
    "limiter = de\n",
    "if(dn > de):\n",
    "    limiter = dn\n",
    "e_limits = (le, le + limiter)\n",
    "n_limits = (ln, ln + limiter)\n",
    "fig, ax = plt.subplots()\n",
    "ax.plot(e, n)\n",
    "Easting, Northing, _, _ = utm.from_latlon(39.4239257, -96.5139257)\n",
    "\n",
    "ax.yaxis.set_major_formatter(FormatStrFormatter('%.3f'))\n",
    "ax.xaxis.set_major_formatter(FormatStrFormatter('%.3f'))\n",
    "ax.set_xlabel(\"Northing (m)\")\n",
    "ax.set_ylabel(\"Easting (m)\")\n",
    "ax.locator_params(axis='x', nbins=4)\n"
   ]
  },
  {
   "cell_type": "code",
   "execution_count": 61,
   "metadata": {},
   "outputs": [
    {
     "data": {
      "text/plain": [
       "[<matplotlib.lines.Line2D at 0x7fcc71d576d0>]"
      ]
     },
     "execution_count": 61,
     "metadata": {},
     "output_type": "execute_result"
    },
    {
     "data": {
      "image/png": "[encoded data removed]",
      "text/plain": [
       "<Figure size 432x288 with 1 Axes>"
      ]
     },
     "metadata": {
      "needs_background": "light"
     },
     "output_type": "display_data"
    }
   ],
   "source": [
    "plt.plot(csv_data_frame[lat_col][323::4], -csv_data_frame[long_col][323::4])"
   ]
  },
  {
   "cell_type": "code",
   "execution_count": 26,
   "metadata": {},
   "outputs": [
    {
     "data": {
      "text/plain": [
       "[0, 2, 4, 6, 8]"
      ]
     },
     "execution_count": 26,
     "metadata": {},
     "output_type": "execute_result"
    }
   ],
   "source": [
    "a = list(range(10))\n",
    "a[::2]"
   ]
  },
  {
   "cell_type": "code",
   "execution_count": 37,
   "metadata": {},
   "outputs": [
    {
     "ename": "ModuleNotFoundError",
     "evalue": "No module named 'Proj'",
     "output_type": "error",
     "traceback": [
      "\u001b[0;31m---------------------------------------------------------------------------\u001b[0m",
      "\u001b[0;31mModuleNotFoundError\u001b[0m                       Traceback (most recent call last)",
      "\u001b[0;32m/tmp/ipykernel_20357/594223442.py\u001b[0m in \u001b[0;36m<module>\u001b[0;34m\u001b[0m\n\u001b[0;32m----> 1\u001b[0;31m \u001b[0;32mimport\u001b[0m \u001b[0mProj\u001b[0m\u001b[0;34m\u001b[0m\u001b[0;34m\u001b[0m\u001b[0m\n\u001b[0m",
      "\u001b[0;31mModuleNotFoundError\u001b[0m: No module named 'Proj'"
     ]
    }
   ],
   "source": [
    "import Proj"
   ]
  },
  {
   "cell_type": "code",
   "execution_count": 38,
   "metadata": {},
   "outputs": [
    {
     "name": "stdout",
     "output_type": "stream",
     "text": [
      "Collecting pyproj\n",
      "  Downloading pyproj-3.2.1-cp38-cp38-manylinux2010_x86_64.whl (6.3 MB)\n",
      "\u001b[K     |████████████████████████████████| 6.3 MB 3.3 MB/s eta 0:00:01\n",
      "\u001b[?25hRequirement already satisfied: certifi in /home/harsha/Desktop/YoloR/seed_spacing/lib/python3.8/site-packages (from pyproj) (2021.5.30)\n",
      "Installing collected packages: pyproj\n",
      "Successfully installed pyproj-3.2.1\n",
      "\u001b[33mWARNING: You are using pip version 21.2.1; however, version 21.3.1 is available.\n",
      "You should consider upgrading via the '/home/harsha/Desktop/YoloR/seed_spacing/bin/python -m pip install --upgrade pip' command.\u001b[0m\n"
     ]
    }
   ],
   "source": [
    "!pip install pyproj"
   ]
  },
  {
   "cell_type": "code",
   "execution_count": 48,
   "metadata": {},
   "outputs": [
    {
     "data": {
      "text/plain": [
       "(713996.1763280682, 4366771.152407691, 14, 'S')"
      ]
     },
     "execution_count": 48,
     "metadata": {},
     "output_type": "execute_result"
    }
   ],
   "source": [
    "utm.from_latlon(39.4239257, -96.5139257)"
   ]
  },
  {
   "cell_type": "code",
   "execution_count": 75,
   "metadata": {},
   "outputs": [
    {
     "data": {
      "text/plain": [
       "[<matplotlib.lines.Line2D at 0x7fcbc6afa250>]"
      ]
     },
     "execution_count": 75,
     "metadata": {},
     "output_type": "execute_result"
    },
    {
     "data": {
      "image/png": "[encoded data removed]",
      "text/plain": [
       "<Figure size 432x288 with 1 Axes>"
      ]
     },
     "metadata": {
      "needs_background": "light"
     },
     "output_type": "display_data"
    }
   ],
   "source": [
    "plt.plot(e, n)\n",
    "plt.plot()"
   ]
  },
  {
   "cell_type": "code",
   "execution_count": null,
   "metadata": {},
   "outputs": [],
   "source": []
  }
 ],
 "metadata": {
  "kernelspec": {
   "display_name": "Python 3 (ipykernel)",
   "language": "python",
   "name": "python3"
  },
  "language_info": {
   "codemirror_mode": {
    "name": "ipython",
    "version": 3
   },
   "file_extension": ".py",
   "mimetype": "text/x-python",
   "name": "python",
   "nbconvert_exporter": "python",
   "pygments_lexer": "ipython3",
   "version": "3.8.10"
  }
 },
 "nbformat": 4,
 "nbformat_minor": 4
}
